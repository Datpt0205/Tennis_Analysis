{
 "cells": [
  {
   "cell_type": "code",
   "execution_count": 1,
   "metadata": {},
   "outputs": [],
   "source": [
    "import pickle\n",
    "import pandas as pd\n",
    "import matplotlib.pyplot as plt"
   ]
  },
  {
   "cell_type": "code",
   "execution_count": 2,
   "metadata": {},
   "outputs": [],
   "source": [
    "# read the pickle file\n",
    "with open('../tracker_stubs/ball_detections.pkl', 'rb') as f:\n",
    "    ball_positions = pickle.load(f)"
   ]
  },
  {
   "cell_type": "code",
   "execution_count": 3,
   "metadata": {},
   "outputs": [],
   "source": [
    "ball_positions = [x.get(1,[]) for x in ball_positions]\n",
    "# convert the list into pandas dataframe\n",
    "df_ball_positions = pd.DataFrame(ball_positions,columns=['x1','y1','x2','y2'])\n",
    "\n",
    "# interpolate the missing values\n",
    "df_ball_positions = df_ball_positions.interpolate()\n",
    "df_ball_positions = df_ball_positions.bfill()"
   ]
  },
  {
   "cell_type": "code",
   "execution_count": 4,
   "metadata": {},
   "outputs": [],
   "source": [
    "df_ball_positions['mid_y'] = (df_ball_positions['y1'] + df_ball_positions['y2'])/2\n",
    "df_ball_positions['mid_y_rolling_mean'] = df_ball_positions['mid_y'].rolling(window=5, min_periods=1, center=False).mean()"
   ]
  },
  {
   "cell_type": "code",
   "execution_count": 11,
   "metadata": {},
   "outputs": [
    {
     "data": {
      "text/plain": [
       "[<matplotlib.lines.Line2D at 0x137f20bc0>]"
      ]
     },
     "execution_count": 11,
     "metadata": {},
     "output_type": "execute_result"
    },
    {
     "data": {
      "image/png": "[encoded data removed]",
      "text/plain": [
       "<Figure size 640x480 with 1 Axes>"
      ]
     },
     "metadata": {},
     "output_type": "display_data"
    }
   ],
   "source": [
    "# plot mid_y_rolling_mean\n",
    "plt.plot(df_ball_positions['mid_y_rolling_mean'])"
   ]
  },
  {
   "cell_type": "code",
   "execution_count": 6,
   "metadata": {},
   "outputs": [],
   "source": [
    "df_ball_positions['delta_y'] = df_ball_positions['mid_y_rolling_mean'].diff()"
   ]
  },
  {
   "cell_type": "code",
   "execution_count": 7,
   "metadata": {},
   "outputs": [
    {
     "data": {
      "text/plain": [
       "[<matplotlib.lines.Line2D at 0x137f682f0>]"
      ]
     },
     "execution_count": 7,
     "metadata": {},
     "output_type": "execute_result"
    },
    {
     "data": {
      "image/png": "[encoded data removed]",
      "text/plain": [
       "<Figure size 640x480 with 1 Axes>"
      ]
     },
     "metadata": {},
     "output_type": "display_data"
    }
   ],
   "source": [
    "# plot mid_y_rolling_mean\n",
    "plt.plot(df_ball_positions['delta_y'])"
   ]
  },
  {
   "cell_type": "code",
   "execution_count": 8,
   "metadata": {},
   "outputs": [],
   "source": [
    "df_ball_positions['ball_hit']=0"
   ]
  },
  {
   "cell_type": "code",
   "execution_count": null,
   "metadata": {},
   "outputs": [],
   "source": [
    "minimum_change_frames_for_hit = 25\n",
    "for i in range(1,len(df_ball_positions)- int(minimum_change_frames_for_hit*1.2) ):\n",
    "    negative_position_change = df_ball_positions['delta_y'].iloc[i] >0 and df_ball_positions['delta_y'].iloc[i+1] <0\n",
    "    positive_position_change = df_ball_positions['delta_y'].iloc[i] <0 and df_ball_positions['delta_y'].iloc[i+1] >0\n",
    "\n",
    "    if negative_position_change or positive_position_change:\n",
    "        change_count = 0 \n",
    "        for change_frame in range(i+1, i+int(minimum_change_frames_for_hit*1.2)+1):\n",
    "            negative_position_change_following_frame = df_ball_positions['delta_y'].iloc[i] >0 and df_ball_positions['delta_y'].iloc[change_frame] <0\n",
    "            positive_position_change_following_frame = df_ball_positions['delta_y'].iloc[i] <0 and df_ball_positions['delta_y'].iloc[change_frame] >0\n",
    "\n",
    "            if negative_position_change and negative_position_change_following_frame:\n",
    "                change_count+=1\n",
    "            elif positive_position_change and positive_position_change_following_frame:\n",
    "                change_count+=1\n",
    "    \n",
    "        if change_count>minimum_change_frames_for_hit-1:\n",
    "            df_ball_positions['ball_hit'].iloc[i] = 1\n",
    "\n",
    "frame_nums_with_ball_hits = df_ball_positions[df_ball_positions['ball_hit']==1].index.tolist()"
   ]
  },
  {
   "cell_type": "code",
   "execution_count": null,
   "metadata": {},
   "outputs": [],
   "source": [
    "df_ball_positions[df_ball_positions['ball_hit']==1]"
   ]
  }
 ],
 "metadata": {
  "kernelspec": {
   "display_name": "Python 3",
   "language": "python",
   "name": "python3"
  },
  "language_info": {
   "codemirror_mode": {
    "name": "ipython",
    "version": 3
   },
   "file_extension": ".py",
   "mimetype": "text/x-python",
   "name": "python",
   "nbconvert_exporter": "python",
   "pygments_lexer": "ipython3",
   "version": "3.12.2"
  }
 },
 "nbformat": 4,
 "nbformat_minor": 2
}
